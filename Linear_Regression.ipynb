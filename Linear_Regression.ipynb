{
  "cells": [
    {
      "cell_type": "code",
      "execution_count": 1,
      "metadata": {
        "id": "0r5V_HHR3FJd"
      },
      "outputs": [],
      "source": [
        "import pandas as pd\n",
        "import numpy as np\n",
        "from sklearn.model_selection import cross_val_score\n",
        "from sklearn.preprocessing import StandardScaler\n",
        "from sklearn.linear_model import LinearRegression\n",
        "from sklearn.metrics import mean_absolute_error, mean_squared_error, r2_score\n",
        "import matplotlib.pyplot as plt\n",
        "import seaborn as sns\n",
        "from sklearn.pipeline import Pipeline\n"
      ]
    },
    {
      "cell_type": "code",
      "execution_count": 2,
      "metadata": {
        "colab": {
          "base_uri": "https://localhost:8080/"
        },
        "id": "cBupgqLP3RB_",
        "outputId": "a4ac2443-0f1b-4983-d938-82fd5019d589"
      },
      "outputs": [
        {
          "output_type": "stream",
          "name": "stdout",
          "text": [
            "Train shape: (14700, 30)\n",
            "Test shape: (3675, 30)\n"
          ]
        }
      ],
      "source": [
        "# CELL 2: Load Split and Preprocessed Data\n",
        "train_data = pd.read_csv('train_data_no_leakage.csv')\n",
        "test_data = pd.read_csv('test_data_no_leakage.csv')\n",
        "print(\"Train shape:\", train_data.shape)\n",
        "print(\"Test shape:\", test_data.shape)\n"
      ]
    },
    {
      "cell_type": "code",
      "execution_count": 3,
      "metadata": {
        "id": "RhwjOkkt3WZv"
      },
      "outputs": [],
      "source": [
        "# CELL 3: Feature & Target Selection, Boolean Conversion\n",
        "X_train = train_data.copy()\n",
        "y_train = train_data['price']\n",
        "\n",
        "X_test = test_data.copy()\n",
        "y_test = test_data['price']\n",
        "\n",
        "X_train = X_train.drop(columns=['price'])\n",
        "X_test = X_test.drop(columns=['price'])\n",
        "\n",
        "# Convert booleans to int\n",
        "for col in X_train.select_dtypes(include='bool').columns:\n",
        "    X_train[col] = X_train[col].astype(int)\n",
        "for col in X_test.select_dtypes(include='bool').columns:\n",
        "    X_test[col] = X_test[col].astype(int)\n"
      ]
    },
    {
      "cell_type": "code",
      "execution_count": 4,
      "metadata": {
        "colab": {
          "base_uri": "https://localhost:8080/"
        },
        "id": "bIJa_cZT3ZRb",
        "outputId": "89194cb3-eaf6-4260-c2c3-376b00a5b322"
      },
      "outputs": [
        {
          "output_type": "stream",
          "name": "stdout",
          "text": [
            "Cross-Validation (training set) RMSE mean ± std: 334.5186396265075 1.029448172293405\n"
          ]
        }
      ],
      "source": [
        "# CELL 4: Cross-validation Using Only Training Data\n",
        "pipe = Pipeline([\n",
        "    (\"scaler\", StandardScaler()),\n",
        "    (\"model\", LinearRegression())\n",
        "])\n",
        "cv_rmse = -cross_val_score(pipe, X_train, y_train, cv=5, scoring='neg_root_mean_squared_error')\n",
        "print(\"Cross-Validation (training set) RMSE mean ± std:\", cv_rmse.mean(), cv_rmse.std())\n"
      ]
    },
    {
      "cell_type": "code",
      "execution_count": 5,
      "metadata": {
        "colab": {
          "base_uri": "https://localhost:8080/"
        },
        "id": "6KdzJ2Rc3anw",
        "outputId": "840fa045-3dd4-4bd7-91f0-dbb25929cabb"
      },
      "outputs": [
        {
          "output_type": "stream",
          "name": "stdout",
          "text": [
            "\n",
            "📊 Model Evaluation on Test Set:\n",
            "Mean Absolute Error: 287.83135158634593\n",
            "Root Mean Squared Error: 332.81432069439376\n",
            "R² Score: -0.003074326541932404\n"
          ]
        }
      ],
      "source": [
        "# CELL 5: Final Model Fit and Test Evaluation\n",
        "scaler = StandardScaler()\n",
        "X_train_scaled = scaler.fit_transform(X_train)\n",
        "X_test_scaled = scaler.transform(X_test)\n",
        "\n",
        "model = LinearRegression()\n",
        "model.fit(X_train_scaled, y_train)\n",
        "y_pred = model.predict(X_test_scaled)\n",
        "\n",
        "mae = mean_absolute_error(y_test, y_pred)\n",
        "rmse = np.sqrt(mean_squared_error(y_test, y_pred))\n",
        "r2 = r2_score(y_test, y_pred)\n",
        "\n",
        "print(\"\\n📊 Model Evaluation on Test Set:\")\n",
        "print(\"Mean Absolute Error:\", mae)\n",
        "print(\"Root Mean Squared Error:\", rmse)\n",
        "print(\"R² Score:\", r2)\n"
      ]
    }
  ],
  "metadata": {
    "colab": {
      "provenance": []
    },
    "kernelspec": {
      "display_name": "Python 3",
      "name": "python3"
    },
    "language_info": {
      "name": "python"
    }
  },
  "nbformat": 4,
  "nbformat_minor": 0
}
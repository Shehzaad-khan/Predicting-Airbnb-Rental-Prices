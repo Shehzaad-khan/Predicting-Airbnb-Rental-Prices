{
 "cells": [
  {
   "cell_type": "code",
   "execution_count": 1,
   "id": "b0830dba",
   "metadata": {},
   "outputs": [],
   "source": [
    "\"\"\"\n",
    "K-Means Clustering for Airbnb Price Segmentation\n",
    "\"\"\"\n",
    "import pandas as pd\n",
    "from sklearn.cluster import KMeans\n",
    "from sklearn.metrics import r2_score, mean_squared_error\n",
    "import numpy as np"
   ]
  },
  {
   "cell_type": "code",
   "execution_count": 2,
   "id": "9de11eeb",
   "metadata": {},
   "outputs": [],
   "source": [
    "# Load processed data\n",
    "train = pd.read_csv('airbnb_train_processed.csv')\n",
    "test = pd.read_csv('airbnb_test_processed.csv')"
   ]
  },
  {
   "cell_type": "code",
   "execution_count": 3,
   "id": "2cbdb4a9",
   "metadata": {},
   "outputs": [],
   "source": [
    "X = train.drop('price', axis=1)\n",
    "prices = train['price']"
   ]
  },
  {
   "cell_type": "code",
   "execution_count": 4,
   "id": "3ac4c54f",
   "metadata": {},
   "outputs": [],
   "source": [
    "# Cluster into 5 price segments\n",
    "kmeans = KMeans(n_clusters=5, random_state=42)\n",
    "clusters = kmeans.fit_predict(X)"
   ]
  },
  {
   "cell_type": "code",
   "execution_count": 5,
   "id": "a3c2926c",
   "metadata": {},
   "outputs": [],
   "source": [
    "# Attach cluster labels\n",
    "train['price_cluster'] = clusters"
   ]
  },
  {
   "cell_type": "code",
   "execution_count": 6,
   "id": "ffed5117",
   "metadata": {},
   "outputs": [
    {
     "name": "stdout",
     "output_type": "stream",
     "text": [
      "K-Means Price Segments:\n",
      "price_cluster\n",
      "0    458.588710\n",
      "1    190.500819\n",
      "2    305.631211\n",
      "3    161.912121\n",
      "4    180.196145\n",
      "Name: price, dtype: float64\n"
     ]
    }
   ],
   "source": [
    "# Show mean price per cluster\n",
    "cluster_means = train.groupby('price_cluster')['price'].mean()\n",
    "print('K-Means Price Segments:')\n",
    "print(cluster_means)"
   ]
  },
  {
   "cell_type": "code",
   "execution_count": 7,
   "id": "2734c69c",
   "metadata": {},
   "outputs": [],
   "source": [
    "# Prepare test features (drop price column if present)\n",
    "X_test = test.drop('price', axis=1, errors='ignore')\n",
    "\n",
    "# Predict clusters for test data\n",
    "test_clusters = kmeans.predict(X_test)\n",
    "\n",
    "# Attach cluster labels to the test DataFrame\n",
    "test['price_cluster'] = test_clusters\n",
    "\n",
    "test['predicted_price'] = [cluster_means[cluster] for cluster in test_clusters]"
   ]
  },
  {
   "cell_type": "code",
   "execution_count": 8,
   "id": "5cedc9fb",
   "metadata": {},
   "outputs": [
    {
     "name": "stdout",
     "output_type": "stream",
     "text": [
      "Sample predictions:\n",
      "    price  predicted_price  price_cluster\n",
      "0   240.0       458.588710              0\n",
      "1   466.0       190.500819              1\n",
      "2    62.0       190.500819              1\n",
      "3  1026.0       458.588710              0\n",
      "4   972.0       305.631211              2\n",
      "R² score: 0.0874\n",
      "RMSE: 285.44\n"
     ]
    }
   ],
   "source": [
    "# Calculate R² Score\n",
    "r2 = r2_score(test['price'], test['predicted_price'])\n",
    "\n",
    "# Calculate RMSE\n",
    "rmse = np.sqrt(mean_squared_error(test['price'], test['predicted_price']))\n",
    "\n",
    "print('Sample predictions:')\n",
    "print(test[['price', 'predicted_price', 'price_cluster']].head())\n",
    "\n",
    "print(f'R² score: {r2:.4f}')\n",
    "print(f'RMSE: {rmse:.2f}')"
   ]
  }
 ],
 "metadata": {
  "kernelspec": {
   "display_name": ".venv",
   "language": "python",
   "name": "python3"
  },
  "language_info": {
   "codemirror_mode": {
    "name": "ipython",
    "version": 3
   },
   "file_extension": ".py",
   "mimetype": "text/x-python",
   "name": "python",
   "nbconvert_exporter": "python",
   "pygments_lexer": "ipython3",
   "version": "3.13.1"
  }
 },
 "nbformat": 4,
 "nbformat_minor": 5
}

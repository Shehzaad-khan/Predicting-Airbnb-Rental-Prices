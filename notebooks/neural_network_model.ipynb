{
 "cells": [
  {
   "cell_type": "code",
   "execution_count": 9,
   "id": "d143bae4",
   "metadata": {},
   "outputs": [],
   "source": [
    "import pandas as pd\n",
    "import torch\n",
    "import torch.nn as nn\n",
    "from torch.utils.data import DataLoader, TensorDataset\n",
    "from sklearn.preprocessing import StandardScaler\n",
    "from sklearn.metrics import r2_score, mean_squared_error"
   ]
  },
  {
   "cell_type": "code",
   "execution_count": 10,
   "id": "5a0d9de6",
   "metadata": {},
   "outputs": [],
   "source": [
    "# Load processed data\n",
    "train = pd.read_csv('airbnb_train_processed.csv')\n",
    "test = pd.read_csv('airbnb_test_processed.csv')"
   ]
  },
  {
   "cell_type": "code",
   "execution_count": 11,
   "id": "d1b5998b",
   "metadata": {},
   "outputs": [],
   "source": [
    "# Separate features and target\n",
    "X_train = train.drop('price', axis=1).values\n",
    "y_train = train['price'].values.reshape(-1, 1)\n",
    "X_test = test.drop('price', axis=1).values\n",
    "y_test = test['price'].values.reshape(-1, 1)"
   ]
  },
  {
   "cell_type": "code",
   "execution_count": 12,
   "id": "9affb338",
   "metadata": {},
   "outputs": [],
   "source": [
    "# --- 🔹 SCALE INPUTS AND TARGET ---\n",
    "scaler_X = StandardScaler()\n",
    "scaler_y = StandardScaler()\n",
    "\n",
    "X_train = scaler_X.fit_transform(X_train)\n",
    "X_test = scaler_X.transform(X_test)\n",
    "\n",
    "y_train = scaler_y.fit_transform(y_train)\n",
    "y_test_scaled = scaler_y.transform(y_test)"
   ]
  },
  {
   "cell_type": "code",
   "execution_count": 13,
   "id": "4873afbd",
   "metadata": {},
   "outputs": [],
   "source": [
    "# Convert to tensors\n",
    "X_train = torch.tensor(X_train, dtype=torch.float32)\n",
    "y_train = torch.tensor(y_train, dtype=torch.float32)\n",
    "X_test = torch.tensor(X_test, dtype=torch.float32)\n",
    "y_test_scaled = torch.tensor(y_test_scaled, dtype=torch.float32)"
   ]
  },
  {
   "cell_type": "code",
   "execution_count": 14,
   "id": "494ba3ca",
   "metadata": {},
   "outputs": [],
   "source": [
    "# Neural Network\n",
    "class AirbnbNN(nn.Module):\n",
    "    def __init__(self, input_dim):\n",
    "        super().__init__()\n",
    "        self.net = nn.Sequential(\n",
    "            nn.Linear(input_dim, 64),\n",
    "            nn.ReLU(),\n",
    "            nn.Linear(64, 32),\n",
    "            nn.ReLU(),\n",
    "            nn.Linear(32, 1)\n",
    "        )\n",
    "    def forward(self, x):\n",
    "        return self.net(x)\n",
    "\n",
    "model = AirbnbNN(X_train.shape[1])\n",
    "optimizer = torch.optim.Adam(model.parameters(), lr=0.001)\n",
    "loss_fn = nn.MSELoss()"
   ]
  },
  {
   "cell_type": "code",
   "execution_count": 15,
   "id": "d066bfa7",
   "metadata": {},
   "outputs": [
    {
     "name": "stdout",
     "output_type": "stream",
     "text": [
      "Epoch 20, Loss: 0.8055\n",
      "Epoch 40, Loss: 0.7095\n",
      "Epoch 60, Loss: 0.6577\n",
      "Epoch 80, Loss: 0.6111\n",
      "Epoch 100, Loss: 0.5666\n",
      "Epoch 120, Loss: 0.5261\n",
      "Epoch 140, Loss: 0.4858\n",
      "Epoch 160, Loss: 0.4437\n",
      "Epoch 180, Loss: 0.4028\n",
      "Epoch 200, Loss: 0.3651\n"
     ]
    }
   ],
   "source": [
    "# Training loop\n",
    "for epoch in range(200):  # more epochs\n",
    "    model.train()\n",
    "    optimizer.zero_grad()\n",
    "    output = model(X_train)\n",
    "    loss = loss_fn(output, y_train)\n",
    "    loss.backward()\n",
    "    optimizer.step()\n",
    "    if (epoch+1) % 20 == 0:\n",
    "        print(f'Epoch {epoch+1}, Loss: {loss.item():.4f}')"
   ]
  },
  {
   "cell_type": "code",
   "execution_count": 16,
   "id": "c19ffb26",
   "metadata": {},
   "outputs": [
    {
     "name": "stdout",
     "output_type": "stream",
     "text": [
      "✅ Neural Network R2: 0.3427, RMSE: $242.23\n"
     ]
    }
   ],
   "source": [
    "# Evaluation\n",
    "model.eval()\n",
    "with torch.no_grad():\n",
    "    pred_scaled = model(X_test)\n",
    "    # --- 🔹 INVERSE TRANSFORM THE PREDICTIONS ---\n",
    "    pred = scaler_y.inverse_transform(pred_scaled.numpy())\n",
    "    y_true = y_test  # already original scale\n",
    "\n",
    "    r2 = r2_score(y_true, pred)\n",
    "    import numpy as np\n",
    "    rmse = np.sqrt(mean_squared_error(y_true, pred))\n",
    "\n",
    "print(f'✅ Neural Network R2: {r2:.4f}, RMSE: ${rmse:.2f}')"
   ]
  }
 ],
 "metadata": {
  "kernelspec": {
   "display_name": ".venv",
   "language": "python",
   "name": "python3"
  },
  "language_info": {
   "codemirror_mode": {
    "name": "ipython",
    "version": 3
   },
   "file_extension": ".py",
   "mimetype": "text/x-python",
   "name": "python",
   "nbconvert_exporter": "python",
   "pygments_lexer": "ipython3",
   "version": "3.13.1"
  }
 },
 "nbformat": 4,
 "nbformat_minor": 5
}

{
 "cells": [
  {
   "cell_type": "code",
   "execution_count": 7,
   "id": "f040fd08",
   "metadata": {},
   "outputs": [],
   "source": [
    "# 📦 Import Libraries\n",
    "import pandas as pd\n",
    "import matplotlib.pyplot as plt\n",
    "import seaborn as sns\n",
    "from sklearn.cluster import KMeans\n",
    "from sklearn.preprocessing import StandardScaler\n",
    "\n",
    "# 🌈 Set Style\n",
    "sns.set_theme(style=\"whitegrid\", palette=\"muted\")"
   ]
  },
  {
   "cell_type": "code",
   "execution_count": 8,
   "id": "bcae61bc",
   "metadata": {},
   "outputs": [
    {
     "data": {
      "text/html": [
       "<style type=\"text/css\">\n",
       "#T_78803_row0_col1 {\n",
       "  background-color: #b2e0ac;\n",
       "  color: #000000;\n",
       "}\n",
       "#T_78803_row0_col2 {\n",
       "  background-color: #d92523;\n",
       "  color: #f1f1f1;\n",
       "}\n",
       "#T_78803_row0_col3 {\n",
       "  background-color: #cc191e;\n",
       "  color: #f1f1f1;\n",
       "}\n",
       "#T_78803_row1_col1 {\n",
       "  background-color: #00441b;\n",
       "  color: #f1f1f1;\n",
       "}\n",
       "#T_78803_row1_col2, #T_78803_row1_col3 {\n",
       "  background-color: #fff5f0;\n",
       "  color: #000000;\n",
       "}\n",
       "#T_78803_row2_col1 {\n",
       "  background-color: #f7fcf5;\n",
       "  color: #000000;\n",
       "}\n",
       "#T_78803_row2_col2, #T_78803_row2_col3 {\n",
       "  background-color: #67000d;\n",
       "  color: #f1f1f1;\n",
       "}\n",
       "#T_78803_row3_col1 {\n",
       "  background-color: #78c679;\n",
       "  color: #000000;\n",
       "}\n",
       "#T_78803_row3_col2 {\n",
       "  background-color: #f75c41;\n",
       "  color: #f1f1f1;\n",
       "}\n",
       "#T_78803_row3_col3 {\n",
       "  background-color: #fb6d4d;\n",
       "  color: #f1f1f1;\n",
       "}\n",
       "</style>\n",
       "<table id=\"T_78803\">\n",
       "  <thead>\n",
       "    <tr>\n",
       "      <th class=\"blank level0\" >&nbsp;</th>\n",
       "      <th id=\"T_78803_level0_col0\" class=\"col_heading level0 col0\" >Model</th>\n",
       "      <th id=\"T_78803_level0_col1\" class=\"col_heading level0 col1\" >R²</th>\n",
       "      <th id=\"T_78803_level0_col2\" class=\"col_heading level0 col2\" >RMSE ($)</th>\n",
       "      <th id=\"T_78803_level0_col3\" class=\"col_heading level0 col3\" >MAE ($)</th>\n",
       "    </tr>\n",
       "  </thead>\n",
       "  <tbody>\n",
       "    <tr>\n",
       "      <th id=\"T_78803_level0_row0\" class=\"row_heading level0 row0\" >0</th>\n",
       "      <td id=\"T_78803_row0_col0\" class=\"data row0 col0\" >Linear Regression</td>\n",
       "      <td id=\"T_78803_row0_col1\" class=\"data row0 col1\" >0.299000</td>\n",
       "      <td id=\"T_78803_row0_col2\" class=\"data row0 col2\" >250.090000</td>\n",
       "      <td id=\"T_78803_row0_col3\" class=\"data row0 col3\" >180.560000</td>\n",
       "    </tr>\n",
       "    <tr>\n",
       "      <th id=\"T_78803_level0_row1\" class=\"row_heading level0 row1\" >1</th>\n",
       "      <td id=\"T_78803_row1_col0\" class=\"data row1 col0\" >Random Forest</td>\n",
       "      <td id=\"T_78803_row1_col1\" class=\"data row1 col1\" >0.476000</td>\n",
       "      <td id=\"T_78803_row1_col2\" class=\"data row1 col2\" >216.380000</td>\n",
       "      <td id=\"T_78803_row1_col3\" class=\"data row1 col3\" >150.770000</td>\n",
       "    </tr>\n",
       "    <tr>\n",
       "      <th id=\"T_78803_level0_row2\" class=\"row_heading level0 row2\" >2</th>\n",
       "      <td id=\"T_78803_row2_col0\" class=\"data row2 col0\" >SVR</td>\n",
       "      <td id=\"T_78803_row2_col1\" class=\"data row2 col1\" >0.216000</td>\n",
       "      <td id=\"T_78803_row2_col2\" class=\"data row2 col2\" >264.580000</td>\n",
       "      <td id=\"T_78803_row2_col3\" class=\"data row2 col3\" >190.830000</td>\n",
       "    </tr>\n",
       "    <tr>\n",
       "      <th id=\"T_78803_level0_row3\" class=\"row_heading level0 row3\" >3</th>\n",
       "      <td id=\"T_78803_row3_col0\" class=\"data row3 col0\" >Neural Network</td>\n",
       "      <td id=\"T_78803_row3_col1\" class=\"data row3 col1\" >0.343000</td>\n",
       "      <td id=\"T_78803_row3_col2\" class=\"data row3 col2\" >242.230000</td>\n",
       "      <td id=\"T_78803_row3_col3\" class=\"data row3 col3\" >170.420000</td>\n",
       "    </tr>\n",
       "  </tbody>\n",
       "</table>\n"
      ],
      "text/plain": [
       "<pandas.io.formats.style.Styler at 0x18deb5ee490>"
      ]
     },
     "metadata": {},
     "output_type": "display_data"
    }
   ],
   "source": [
    "# 🧮 Model Evaluation Results\n",
    "results = pd.DataFrame({\n",
    "    'Model': ['Linear Regression', 'Random Forest', 'SVR', 'Neural Network'],\n",
    "    'R²': [0.299, 0.476, 0.216, 0.343],\n",
    "    'RMSE ($)': [250.09, 216.38, 264.58, 242.23],\n",
    "    'MAE ($)': [180.56, 150.77, 190.83, 170.42]\n",
    "})\n",
    "\n",
    "display(results.style.background_gradient(subset=['R²'], cmap='Greens')\n",
    "                .background_gradient(subset=['RMSE ($)', 'MAE ($)'], cmap='Reds'))"
   ]
  },
  {
   "cell_type": "code",
   "execution_count": 9,
   "id": "85981b6b",
   "metadata": {},
   "outputs": [
    {
     "name": "stdout",
     "output_type": "stream",
     "text": [
      "✅ Models sorted by RMSE (lower is better):\n"
     ]
    },
    {
     "data": {
      "text/html": [
       "<div>\n",
       "<style scoped>\n",
       "    .dataframe tbody tr th:only-of-type {\n",
       "        vertical-align: middle;\n",
       "    }\n",
       "\n",
       "    .dataframe tbody tr th {\n",
       "        vertical-align: top;\n",
       "    }\n",
       "\n",
       "    .dataframe thead th {\n",
       "        text-align: right;\n",
       "    }\n",
       "</style>\n",
       "<table border=\"1\" class=\"dataframe\">\n",
       "  <thead>\n",
       "    <tr style=\"text-align: right;\">\n",
       "      <th></th>\n",
       "      <th>Model</th>\n",
       "      <th>R²</th>\n",
       "      <th>RMSE ($)</th>\n",
       "      <th>MAE ($)</th>\n",
       "    </tr>\n",
       "  </thead>\n",
       "  <tbody>\n",
       "    <tr>\n",
       "      <th>0</th>\n",
       "      <td>Random Forest</td>\n",
       "      <td>0.476</td>\n",
       "      <td>216.38</td>\n",
       "      <td>150.77</td>\n",
       "    </tr>\n",
       "    <tr>\n",
       "      <th>1</th>\n",
       "      <td>Neural Network</td>\n",
       "      <td>0.343</td>\n",
       "      <td>242.23</td>\n",
       "      <td>170.42</td>\n",
       "    </tr>\n",
       "    <tr>\n",
       "      <th>2</th>\n",
       "      <td>Linear Regression</td>\n",
       "      <td>0.299</td>\n",
       "      <td>250.09</td>\n",
       "      <td>180.56</td>\n",
       "    </tr>\n",
       "    <tr>\n",
       "      <th>3</th>\n",
       "      <td>SVR</td>\n",
       "      <td>0.216</td>\n",
       "      <td>264.58</td>\n",
       "      <td>190.83</td>\n",
       "    </tr>\n",
       "  </tbody>\n",
       "</table>\n",
       "</div>"
      ],
      "text/plain": [
       "               Model     R²  RMSE ($)  MAE ($)\n",
       "0      Random Forest  0.476    216.38   150.77\n",
       "1     Neural Network  0.343    242.23   170.42\n",
       "2  Linear Regression  0.299    250.09   180.56\n",
       "3                SVR  0.216    264.58   190.83"
      ]
     },
     "metadata": {},
     "output_type": "display_data"
    }
   ],
   "source": [
    "# 🏆 Sort models by RMSE (lower = better)\n",
    "results_sorted = results.sort_values(by='RMSE ($)', ascending=True).reset_index(drop=True)\n",
    "print(\"✅ Models sorted by RMSE (lower is better):\")\n",
    "display(results_sorted)"
   ]
  },
  {
   "cell_type": "code",
   "execution_count": 10,
   "id": "2fedf569",
   "metadata": {},
   "outputs": [
    {
     "name": "stderr",
     "output_type": "stream",
     "text": [
      "C:\\Users\\Mohit\\AppData\\Local\\Temp\\ipykernel_3640\\3242419170.py:2: FutureWarning: \n",
      "\n",
      "Passing `palette` without assigning `hue` is deprecated and will be removed in v0.14.0. Assign the `x` variable to `hue` and set `legend=False` for the same effect.\n",
      "\n",
      "  sns.barplot(x='Model', y='R²', data=results_sorted, palette='crest')\n",
      "c:\\ML_PROJECT\\.venv\\Lib\\site-packages\\IPython\\core\\pylabtools.py:170: UserWarning: Glyph 10024 (\\N{SPARKLES}) missing from font(s) Arial.\n",
      "  fig.canvas.print_figure(bytes_io, **kw)\n"
     ]
    },
    {
     "data": {
      "image/png": "[encoded data removed]",
      "text/plain": [
       "<Figure size 800x500 with 1 Axes>"
      ]
     },
     "metadata": {},
     "output_type": "display_data"
    }
   ],
   "source": [
    "plt.figure(figsize=(8,5))\n",
    "sns.barplot(x='Model', y='R²', data=results_sorted, palette='crest')\n",
    "plt.title(\"✨ Model Comparison - R² Score\", fontsize=14, weight='bold')\n",
    "plt.ylabel(\"R² Value\")\n",
    "plt.xlabel(\"\")\n",
    "plt.ylim(0, 0.6)\n",
    "plt.xticks(rotation=20)\n",
    "plt.show()"
   ]
  },
  {
   "cell_type": "code",
   "execution_count": 11,
   "id": "434ee1b7",
   "metadata": {},
   "outputs": [
    {
     "name": "stderr",
     "output_type": "stream",
     "text": [
      "C:\\Users\\Mohit\\AppData\\Local\\Temp\\ipykernel_3640\\3753250725.py:2: FutureWarning: \n",
      "\n",
      "Passing `palette` without assigning `hue` is deprecated and will be removed in v0.14.0. Assign the `x` variable to `hue` and set `legend=False` for the same effect.\n",
      "\n",
      "  sns.barplot(x='Model', y='RMSE ($)', data=results_sorted, palette='flare')\n",
      "c:\\ML_PROJECT\\.venv\\Lib\\site-packages\\IPython\\core\\pylabtools.py:170: UserWarning: Glyph 128176 (\\N{MONEY BAG}) missing from font(s) Arial.\n",
      "  fig.canvas.print_figure(bytes_io, **kw)\n"
     ]
    },
    {
     "data": {
      "image/png": "[encoded data removed]",
      "text/plain": [
       "<Figure size 800x500 with 1 Axes>"
      ]
     },
     "metadata": {},
     "output_type": "display_data"
    }
   ],
   "source": [
    "plt.figure(figsize=(8,5))\n",
    "sns.barplot(x='Model', y='RMSE ($)', data=results_sorted, palette='flare')\n",
    "plt.title(\"💰 Model Comparison - RMSE\", fontsize=14, weight='bold')\n",
    "plt.ylabel(\"Root Mean Squared Error ($)\")\n",
    "plt.xlabel(\"\")\n",
    "plt.xticks(rotation=20)\n",
    "plt.show()"
   ]
  },
  {
   "cell_type": "code",
   "execution_count": 12,
   "id": "e68b4d72",
   "metadata": {},
   "outputs": [
    {
     "data": {
      "text/html": [
       "<style type=\"text/css\">\n",
       "#T_0c31c_row0_col0, #T_0c31c_row2_col1 {\n",
       "  background-color: #ffffe5;\n",
       "  color: #000000;\n",
       "}\n",
       "#T_0c31c_row0_col1, #T_0c31c_row4_col0 {\n",
       "  background-color: #004529;\n",
       "  color: #f1f1f1;\n",
       "}\n",
       "#T_0c31c_row1_col0 {\n",
       "  background-color: #d9f0a3;\n",
       "  color: #000000;\n",
       "}\n",
       "#T_0c31c_row1_col1 {\n",
       "  background-color: #fdfedd;\n",
       "  color: #000000;\n",
       "}\n",
       "#T_0c31c_row2_col0 {\n",
       "  background-color: #77c679;\n",
       "  color: #000000;\n",
       "}\n",
       "#T_0c31c_row3_col0 {\n",
       "  background-color: #228343;\n",
       "  color: #f1f1f1;\n",
       "}\n",
       "#T_0c31c_row3_col1 {\n",
       "  background-color: #eff9b3;\n",
       "  color: #000000;\n",
       "}\n",
       "#T_0c31c_row4_col1 {\n",
       "  background-color: #83cb7d;\n",
       "  color: #000000;\n",
       "}\n",
       "</style>\n",
       "<table id=\"T_0c31c\">\n",
       "  <thead>\n",
       "    <tr>\n",
       "      <th class=\"blank level0\" >&nbsp;</th>\n",
       "      <th id=\"T_0c31c_level0_col0\" class=\"col_heading level0 col0\" >Cluster</th>\n",
       "      <th id=\"T_0c31c_level0_col1\" class=\"col_heading level0 col1\" >Mean Price ($)</th>\n",
       "    </tr>\n",
       "  </thead>\n",
       "  <tbody>\n",
       "    <tr>\n",
       "      <th id=\"T_0c31c_level0_row0\" class=\"row_heading level0 row0\" >0</th>\n",
       "      <td id=\"T_0c31c_row0_col0\" class=\"data row0 col0\" >0</td>\n",
       "      <td id=\"T_0c31c_row0_col1\" class=\"data row0 col1\" >448.730000</td>\n",
       "    </tr>\n",
       "    <tr>\n",
       "      <th id=\"T_0c31c_level0_row1\" class=\"row_heading level0 row1\" >1</th>\n",
       "      <td id=\"T_0c31c_row1_col0\" class=\"data row1 col0\" >1</td>\n",
       "      <td id=\"T_0c31c_row1_col1\" class=\"data row1 col1\" >158.820000</td>\n",
       "    </tr>\n",
       "    <tr>\n",
       "      <th id=\"T_0c31c_level0_row2\" class=\"row_heading level0 row2\" >2</th>\n",
       "      <td id=\"T_0c31c_row2_col0\" class=\"data row2 col0\" >2</td>\n",
       "      <td id=\"T_0c31c_row2_col1\" class=\"data row2 col1\" >150.900000</td>\n",
       "    </tr>\n",
       "    <tr>\n",
       "      <th id=\"T_0c31c_level0_row3\" class=\"row_heading level0 row3\" >3</th>\n",
       "      <td id=\"T_0c31c_row3_col0\" class=\"data row3 col0\" >3</td>\n",
       "      <td id=\"T_0c31c_row3_col1\" class=\"data row3 col1\" >197.870000</td>\n",
       "    </tr>\n",
       "    <tr>\n",
       "      <th id=\"T_0c31c_level0_row4\" class=\"row_heading level0 row4\" >4</th>\n",
       "      <td id=\"T_0c31c_row4_col0\" class=\"data row4 col0\" >4</td>\n",
       "      <td id=\"T_0c31c_row4_col1\" class=\"data row4 col1\" >291.700000</td>\n",
       "    </tr>\n",
       "  </tbody>\n",
       "</table>\n"
      ],
      "text/plain": [
       "<pandas.io.formats.style.Styler at 0x18deb70ad50>"
      ]
     },
     "metadata": {},
     "output_type": "display_data"
    }
   ],
   "source": [
    "# 🌀 KMeans Clustering for Price Segmentation\n",
    "# Load processed Airbnb dataset (combine train + test if available)\n",
    "df_train = pd.read_csv('airbnb_train_processed.csv')\n",
    "\n",
    "try:\n",
    "    df_test = pd.read_csv('airbnb_test_processed.csv')\n",
    "    df_full = pd.concat([df_train, df_test], ignore_index=True)\n",
    "except FileNotFoundError:\n",
    "    df_full = df_train.copy()\n",
    "\n",
    "# Cluster only numeric columns (excluding price)\n",
    "X = df_full.drop(columns=['price'], errors='ignore').select_dtypes(include=['int64', 'float64'])\n",
    "\n",
    "# Standardize numeric features\n",
    "scaler = StandardScaler()\n",
    "X_scaled = scaler.fit_transform(X)\n",
    "\n",
    "# KMeans clustering (5 clusters)\n",
    "kmeans = KMeans(n_clusters=5, random_state=42, n_init=10)\n",
    "df_full['Cluster'] = kmeans.fit_predict(X_scaled)\n",
    "\n",
    "# Calculate mean price per cluster\n",
    "cluster_means = df_full.groupby('Cluster')['price'].mean().round(2)\n",
    "cluster_summary = pd.DataFrame({'Cluster': cluster_means.index, 'Mean Price ($)': cluster_means.values})\n",
    "\n",
    "display(cluster_summary.style.background_gradient(cmap='YlGn'))"
   ]
  },
  {
   "cell_type": "code",
   "execution_count": 13,
   "id": "d8da23ad",
   "metadata": {},
   "outputs": [
    {
     "name": "stdout",
     "output_type": "stream",
     "text": [
      "🏷️ KMeans Clustering (Mean Price per Segment):\n",
      "- Cluster 0: $448.73\n",
      "- Cluster 1: $158.82\n",
      "- Cluster 2: $150.90\n",
      "- Cluster 3: $197.87\n",
      "- Cluster 4: $291.70\n"
     ]
    }
   ],
   "source": [
    "print(\"🏷️ KMeans Clustering (Mean Price per Segment):\")\n",
    "for idx, val in zip(cluster_summary['Cluster'], cluster_summary['Mean Price ($)']):\n",
    "    print(f\"- Cluster {idx}: ${val:.2f}\")"
   ]
  },
  {
   "cell_type": "code",
   "execution_count": 14,
   "id": "b3d27930",
   "metadata": {},
   "outputs": [
    {
     "name": "stdout",
     "output_type": "stream",
     "text": [
      "🏆 Best Model Based on R²:\n",
      "➡️ Random Forest (R² = 0.476)\n",
      "\n",
      "🏆 Best Model Based on RMSE:\n",
      "➡️ Random Forest (RMSE = $216.38)\n"
     ]
    }
   ],
   "source": [
    "best_by_r2 = results.loc[results['R²'].idxmax()]\n",
    "best_by_rmse = results.loc[results['RMSE ($)'].idxmin()]\n",
    "\n",
    "print(\"🏆 Best Model Based on R²:\")\n",
    "print(f\"➡️ {best_by_r2['Model']} (R² = {best_by_r2['R²']:.3f})\")\n",
    "\n",
    "print(\"\\n🏆 Best Model Based on RMSE:\")\n",
    "print(f\"➡️ {best_by_rmse['Model']} (RMSE = ${best_by_rmse['RMSE ($)']:.2f})\")"
   ]
  },
  {
   "cell_type": "code",
   "execution_count": 15,
   "id": "0144a61e",
   "metadata": {},
   "outputs": [
    {
     "name": "stdout",
     "output_type": "stream",
     "text": [
      "\n",
      "# 🧾 Final Conclusion\n",
      "\n",
      "After evaluating multiple models for Airbnb Price Prediction:\n",
      "\n",
      "✅ **Random Forest** achieved the best overall performance —\n",
      "   Highest R² (0.476) and lowest RMSE ($216.38),\n",
      "   indicating strong predictive capability for Airbnb price prediction.\n",
      "\n",
      "🔹 **Neural Network** performed moderately well (R² ≈ 0.34),\n",
      "   showing potential with further tuning (e.g., more epochs or learning rate optimization).\n",
      "\n",
      "🔸 **Linear Regression** and **SVR** underperformed due to limited ability\n",
      "   to capture non-linear relationships in the data.\n",
      "\n",
      "🌀 **KMeans Clustering** provided valuable segmentation insights —\n",
      "   revealing distinct average price ranges across customer groups.\n",
      "\n",
      "📊 **Final Decision:** Random Forest is selected as the final model for Airbnb price prediction.\n",
      "\n"
     ]
    }
   ],
   "source": [
    "print(\"\"\"\n",
    "# 🧾 Final Conclusion\n",
    "\n",
    "After evaluating multiple models for Airbnb Price Prediction:\n",
    "\n",
    "✅ **Random Forest** achieved the best overall performance —\n",
    "   Highest R² (0.476) and lowest RMSE ($216.38),\n",
    "   indicating strong predictive capability for Airbnb price prediction.\n",
    "\n",
    "🔹 **Neural Network** performed moderately well (R² ≈ 0.34),\n",
    "   showing potential with further tuning (e.g., more epochs or learning rate optimization).\n",
    "\n",
    "🔸 **Linear Regression** and **SVR** underperformed due to limited ability\n",
    "   to capture non-linear relationships in the data.\n",
    "\n",
    "🌀 **KMeans Clustering** provided valuable segmentation insights —\n",
    "   revealing distinct average price ranges across customer groups.\n",
    "\n",
    "📊 **Final Decision:** Random Forest is selected as the final model for Airbnb price prediction.\n",
    "\"\"\")"
   ]
  }
 ],
 "metadata": {
  "kernelspec": {
   "display_name": ".venv",
   "language": "python",
   "name": "python3"
  },
  "language_info": {
   "codemirror_mode": {
    "name": "ipython",
    "version": 3
   },
   "file_extension": ".py",
   "mimetype": "text/x-python",
   "name": "python",
   "nbconvert_exporter": "python",
   "pygments_lexer": "ipython3",
   "version": "3.13.1"
  }
 },
 "nbformat": 4,
 "nbformat_minor": 5
}

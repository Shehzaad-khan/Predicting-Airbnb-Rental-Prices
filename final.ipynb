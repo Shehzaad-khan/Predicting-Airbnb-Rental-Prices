{
 "cells": [
  {
   "cell_type": "code",
   "execution_count": 19,
   "id": "f040fd08",
   "metadata": {},
   "outputs": [],
   "source": [
    "# 📦 Import Libraries\n",
    "import pandas as pd\n",
    "import matplotlib.pyplot as plt\n",
    "import seaborn as sns\n",
    "from sklearn.cluster import KMeans\n",
    "from sklearn.preprocessing import StandardScaler"
   ]
  },
  {
   "cell_type": "code",
   "execution_count": 20,
   "id": "bcae61bc",
   "metadata": {},
   "outputs": [
    {
     "data": {
      "text/html": [
       "<div>\n",
       "<style scoped>\n",
       "    .dataframe tbody tr th:only-of-type {\n",
       "        vertical-align: middle;\n",
       "    }\n",
       "\n",
       "    .dataframe tbody tr th {\n",
       "        vertical-align: top;\n",
       "    }\n",
       "\n",
       "    .dataframe thead th {\n",
       "        text-align: right;\n",
       "    }\n",
       "</style>\n",
       "<table border=\"1\" class=\"dataframe\">\n",
       "  <thead>\n",
       "    <tr style=\"text-align: right;\">\n",
       "      <th></th>\n",
       "      <th>Model</th>\n",
       "      <th>R2</th>\n",
       "      <th>RMSE</th>\n",
       "      <th>MAE</th>\n",
       "    </tr>\n",
       "  </thead>\n",
       "  <tbody>\n",
       "    <tr>\n",
       "      <th>0</th>\n",
       "      <td>Linear Regression</td>\n",
       "      <td>0.299</td>\n",
       "      <td>250.09</td>\n",
       "      <td>180.56</td>\n",
       "    </tr>\n",
       "    <tr>\n",
       "      <th>1</th>\n",
       "      <td>Random Forest</td>\n",
       "      <td>0.476</td>\n",
       "      <td>216.38</td>\n",
       "      <td>150.77</td>\n",
       "    </tr>\n",
       "    <tr>\n",
       "      <th>2</th>\n",
       "      <td>SVR</td>\n",
       "      <td>0.216</td>\n",
       "      <td>264.58</td>\n",
       "      <td>190.83</td>\n",
       "    </tr>\n",
       "    <tr>\n",
       "      <th>3</th>\n",
       "      <td>Neural Network</td>\n",
       "      <td>-0.538</td>\n",
       "      <td>370.59</td>\n",
       "      <td>300.40</td>\n",
       "    </tr>\n",
       "  </tbody>\n",
       "</table>\n",
       "</div>"
      ],
      "text/plain": [
       "               Model     R2    RMSE     MAE\n",
       "0  Linear Regression  0.299  250.09  180.56\n",
       "1      Random Forest  0.476  216.38  150.77\n",
       "2                SVR  0.216  264.58  190.83\n",
       "3     Neural Network -0.538  370.59  300.40"
      ]
     },
     "execution_count": 20,
     "metadata": {},
     "output_type": "execute_result"
    }
   ],
   "source": [
    "# 🧮 Model Evaluation Results (replace values with your own if different)\n",
    "results = pd.DataFrame({\n",
    "    'Model': ['Linear Regression', 'Random Forest', 'SVR', 'Neural Network'],\n",
    "    'R2': [0.299, 0.476, 0.216, -0.538],\n",
    "    'RMSE': [250.09, 216.38, 264.58, 370.59],\n",
    "    'MAE': [180.56, 150.77, 190.83, 300.40]\n",
    "})\n",
    "\n",
    "results"
   ]
  },
  {
   "cell_type": "code",
   "execution_count": 21,
   "id": "85981b6b",
   "metadata": {},
   "outputs": [
    {
     "data": {
      "text/html": [
       "<div>\n",
       "<style scoped>\n",
       "    .dataframe tbody tr th:only-of-type {\n",
       "        vertical-align: middle;\n",
       "    }\n",
       "\n",
       "    .dataframe tbody tr th {\n",
       "        vertical-align: top;\n",
       "    }\n",
       "\n",
       "    .dataframe thead th {\n",
       "        text-align: right;\n",
       "    }\n",
       "</style>\n",
       "<table border=\"1\" class=\"dataframe\">\n",
       "  <thead>\n",
       "    <tr style=\"text-align: right;\">\n",
       "      <th></th>\n",
       "      <th>Model</th>\n",
       "      <th>R2</th>\n",
       "      <th>RMSE</th>\n",
       "      <th>MAE</th>\n",
       "    </tr>\n",
       "  </thead>\n",
       "  <tbody>\n",
       "    <tr>\n",
       "      <th>0</th>\n",
       "      <td>Random Forest</td>\n",
       "      <td>0.476</td>\n",
       "      <td>216.38</td>\n",
       "      <td>150.77</td>\n",
       "    </tr>\n",
       "    <tr>\n",
       "      <th>1</th>\n",
       "      <td>Linear Regression</td>\n",
       "      <td>0.299</td>\n",
       "      <td>250.09</td>\n",
       "      <td>180.56</td>\n",
       "    </tr>\n",
       "    <tr>\n",
       "      <th>2</th>\n",
       "      <td>SVR</td>\n",
       "      <td>0.216</td>\n",
       "      <td>264.58</td>\n",
       "      <td>190.83</td>\n",
       "    </tr>\n",
       "    <tr>\n",
       "      <th>3</th>\n",
       "      <td>Neural Network</td>\n",
       "      <td>-0.538</td>\n",
       "      <td>370.59</td>\n",
       "      <td>300.40</td>\n",
       "    </tr>\n",
       "  </tbody>\n",
       "</table>\n",
       "</div>"
      ],
      "text/plain": [
       "               Model     R2    RMSE     MAE\n",
       "0      Random Forest  0.476  216.38  150.77\n",
       "1  Linear Regression  0.299  250.09  180.56\n",
       "2                SVR  0.216  264.58  190.83\n",
       "3     Neural Network -0.538  370.59  300.40"
      ]
     },
     "execution_count": 21,
     "metadata": {},
     "output_type": "execute_result"
    }
   ],
   "source": [
    "# 🏆 Sort models by RMSE (lower = better)\n",
    "results_sorted = results.sort_values(by='RMSE', ascending=True).reset_index(drop=True)\n",
    "results_sorted"
   ]
  },
  {
   "cell_type": "code",
   "execution_count": 22,
   "id": "2fedf569",
   "metadata": {},
   "outputs": [
    {
     "name": "stderr",
     "output_type": "stream",
     "text": [
      "C:\\Users\\Mohit\\AppData\\Local\\Temp\\ipykernel_24072\\198487826.py:2: FutureWarning: \n",
      "\n",
      "Passing `palette` without assigning `hue` is deprecated and will be removed in v0.14.0. Assign the `x` variable to `hue` and set `legend=False` for the same effect.\n",
      "\n",
      "  sns.barplot(x='Model', y='R2', data=results_sorted, palette='Blues_d')\n"
     ]
    },
    {
     "data": {
      "image/png": "[encoded data removed]",
      "text/plain": [
       "<Figure size 800x500 with 1 Axes>"
      ]
     },
     "metadata": {},
     "output_type": "display_data"
    }
   ],
   "source": [
    "plt.figure(figsize=(8,5))\n",
    "sns.barplot(x='Model', y='R2', data=results_sorted, palette='Blues_d')\n",
    "plt.title(\"Model Comparison - R² Score\")\n",
    "plt.ylabel(\"R² Value\")\n",
    "plt.xlabel(\"Model\")\n",
    "plt.xticks(rotation=30)\n",
    "plt.show()"
   ]
  },
  {
   "cell_type": "code",
   "execution_count": 23,
   "id": "434ee1b7",
   "metadata": {},
   "outputs": [
    {
     "name": "stderr",
     "output_type": "stream",
     "text": [
      "C:\\Users\\Mohit\\AppData\\Local\\Temp\\ipykernel_24072\\105738110.py:2: FutureWarning: \n",
      "\n",
      "Passing `palette` without assigning `hue` is deprecated and will be removed in v0.14.0. Assign the `x` variable to `hue` and set `legend=False` for the same effect.\n",
      "\n",
      "  sns.barplot(x='Model', y='RMSE', data=results_sorted, palette='Greens_d')\n"
     ]
    },
    {
     "data": {
      "image/png": "[encoded data removed]",
      "text/plain": [
       "<Figure size 800x500 with 1 Axes>"
      ]
     },
     "metadata": {},
     "output_type": "display_data"
    }
   ],
   "source": [
    "plt.figure(figsize=(8,5))\n",
    "sns.barplot(x='Model', y='RMSE', data=results_sorted, palette='Greens_d')\n",
    "plt.title(\"Model Comparison - RMSE ($)\")\n",
    "plt.ylabel(\"RMSE ($)\")\n",
    "plt.xlabel(\"Model\")\n",
    "plt.xticks(rotation=30)\n",
    "plt.show()"
   ]
  },
  {
   "cell_type": "code",
   "execution_count": 24,
   "id": "e68b4d72",
   "metadata": {},
   "outputs": [
    {
     "data": {
      "text/html": [
       "<div>\n",
       "<style scoped>\n",
       "    .dataframe tbody tr th:only-of-type {\n",
       "        vertical-align: middle;\n",
       "    }\n",
       "\n",
       "    .dataframe tbody tr th {\n",
       "        vertical-align: top;\n",
       "    }\n",
       "\n",
       "    .dataframe thead th {\n",
       "        text-align: right;\n",
       "    }\n",
       "</style>\n",
       "<table border=\"1\" class=\"dataframe\">\n",
       "  <thead>\n",
       "    <tr style=\"text-align: right;\">\n",
       "      <th></th>\n",
       "      <th>Cluster</th>\n",
       "      <th>Mean_Price</th>\n",
       "    </tr>\n",
       "  </thead>\n",
       "  <tbody>\n",
       "    <tr>\n",
       "      <th>0</th>\n",
       "      <td>0</td>\n",
       "      <td>448.73</td>\n",
       "    </tr>\n",
       "    <tr>\n",
       "      <th>1</th>\n",
       "      <td>1</td>\n",
       "      <td>158.82</td>\n",
       "    </tr>\n",
       "    <tr>\n",
       "      <th>2</th>\n",
       "      <td>2</td>\n",
       "      <td>150.90</td>\n",
       "    </tr>\n",
       "    <tr>\n",
       "      <th>3</th>\n",
       "      <td>3</td>\n",
       "      <td>197.87</td>\n",
       "    </tr>\n",
       "    <tr>\n",
       "      <th>4</th>\n",
       "      <td>4</td>\n",
       "      <td>291.70</td>\n",
       "    </tr>\n",
       "  </tbody>\n",
       "</table>\n",
       "</div>"
      ],
      "text/plain": [
       "   Cluster  Mean_Price\n",
       "0        0      448.73\n",
       "1        1      158.82\n",
       "2        2      150.90\n",
       "3        3      197.87\n",
       "4        4      291.70"
      ]
     },
     "execution_count": 24,
     "metadata": {},
     "output_type": "execute_result"
    }
   ],
   "source": [
    "# 🌀 KMeans Clustering for Price Segmentation\n",
    "# Load processed Airbnb dataset (combine train + test if available)\n",
    "df_train = pd.read_csv('airbnb_train_processed.csv')\n",
    "try:\n",
    "    df_test = pd.read_csv('airbnb_test_processed.csv')\n",
    "    df_full = pd.concat([df_train, df_test], ignore_index=True)\n",
    "except FileNotFoundError:\n",
    "    df_full = df_train.copy()\n",
    "\n",
    "# Cluster only numeric columns (excluding price)\n",
    "X = df_full.drop(columns=['price'], errors='ignore').select_dtypes(include=['int64', 'float64'])\n",
    "\n",
    "# Standardize\n",
    "scaler = StandardScaler()\n",
    "X_scaled = scaler.fit_transform(X)\n",
    "\n",
    "# KMeans clustering (5 clusters as in your summary)\n",
    "kmeans = KMeans(n_clusters=5, random_state=42, n_init=10)\n",
    "labels = kmeans.fit_predict(X_scaled)\n",
    "df_full['Cluster'] = labels\n",
    "\n",
    "# Calculate mean price per cluster\n",
    "cluster_means = df_full.groupby('Cluster')['price'].mean().round(2)\n",
    "cluster_summary = pd.DataFrame({'Cluster': cluster_means.index, 'Mean_Price': cluster_means.values})\n",
    "cluster_summary"
   ]
  },
  {
   "cell_type": "code",
   "execution_count": 25,
   "id": "d8da23ad",
   "metadata": {},
   "outputs": [
    {
     "name": "stdout",
     "output_type": "stream",
     "text": [
      "🏷️ KMeans Clustering (Mean Price per Segment):\n",
      "- Cluster 0: $448.73\n",
      "- Cluster 1: $158.82\n",
      "- Cluster 2: $150.90\n",
      "- Cluster 3: $197.87\n",
      "- Cluster 4: $291.70\n"
     ]
    }
   ],
   "source": [
    "print(\"🏷️ KMeans Clustering (Mean Price per Segment):\")\n",
    "for idx, val in zip(cluster_summary['Cluster'], cluster_summary['Mean_Price']):\n",
    "    print(f\"- Cluster {idx}: ${val:.2f}\")"
   ]
  },
  {
   "cell_type": "code",
   "execution_count": 26,
   "id": "b3d27930",
   "metadata": {},
   "outputs": [
    {
     "name": "stdout",
     "output_type": "stream",
     "text": [
      "🏆 Best by R²: Random Forest (R² = 0.476)\n",
      "🏆 Best by RMSE: Random Forest (RMSE = $216.38)\n"
     ]
    }
   ],
   "source": [
    "# Identify best model by R² and RMSE\n",
    "best_by_r2 = results.loc[results['R2'].idxmax()]\n",
    "best_by_rmse = results.loc[results['RMSE'].idxmin()]\n",
    "\n",
    "print(f\"🏆 Best by R²: {best_by_r2['Model']} (R² = {best_by_r2['R2']:.3f})\")\n",
    "print(f\"🏆 Best by RMSE: {best_by_rmse['Model']} (RMSE = ${best_by_rmse['RMSE']:.2f})\")"
   ]
  },
  {
   "cell_type": "code",
   "execution_count": 27,
   "id": "0144a61e",
   "metadata": {},
   "outputs": [
    {
     "name": "stdout",
     "output_type": "stream",
     "text": [
      "\n",
      "### 🧾 Final Conclusion\n",
      "\n",
      "After evaluating multiple models (Linear Regression, Random Forest, SVR, Neural Network, and KMeans):\n",
      "\n",
      "✅ The **Random Forest** model performed the best overall,\n",
      "achieving the highest R² and lowest RMSE — \n",
      "indicating strong predictive power for Airbnb price prediction.\n",
      "\n",
      "🔹 **KMeans** was used for segmentation — showing different average price ranges per cluster,\n",
      "which is useful for identifying pricing tiers or target customer groups.\n",
      "\n",
      "⚙️ **Neural Network** and **SVR** underperformed and may require\n",
      "further tuning (e.g., more epochs, learning rate adjustment, or hyperparameter optimization).\n",
      "\n",
      "📊 **Final Decision:** Random Forest is chosen as the final model for price prediction.\n",
      "\n"
     ]
    }
   ],
   "source": [
    "print(\"\"\"\n",
    "### 🧾 Final Conclusion\n",
    "\n",
    "After evaluating multiple models (Linear Regression, Random Forest, SVR, Neural Network, and KMeans):\n",
    "\n",
    "✅ The **Random Forest** model performed the best overall,\n",
    "achieving the highest R² and lowest RMSE — \n",
    "indicating strong predictive power for Airbnb price prediction.\n",
    "\n",
    "🔹 **KMeans** was used for segmentation — showing different average price ranges per cluster,\n",
    "which is useful for identifying pricing tiers or target customer groups.\n",
    "\n",
    "⚙️ **Neural Network** and **SVR** underperformed and may require\n",
    "further tuning (e.g., more epochs, learning rate adjustment, or hyperparameter optimization).\n",
    "\n",
    "📊 **Final Decision:** Random Forest is chosen as the final model for price prediction.\n",
    "\"\"\")"
   ]
  }
 ],
 "metadata": {
  "kernelspec": {
   "display_name": ".venv",
   "language": "python",
   "name": "python3"
  },
  "language_info": {
   "codemirror_mode": {
    "name": "ipython",
    "version": 3
   },
   "file_extension": ".py",
   "mimetype": "text/x-python",
   "name": "python",
   "nbconvert_exporter": "python",
   "pygments_lexer": "ipython3",
   "version": "3.13.1"
  }
 },
 "nbformat": 4,
 "nbformat_minor": 5
}

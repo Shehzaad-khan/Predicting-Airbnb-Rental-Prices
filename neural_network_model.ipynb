{
 "cells": [
  {
   "cell_type": "code",
   "execution_count": 278,
   "id": "240f41b2",
   "metadata": {},
   "outputs": [],
   "source": [
    "\"\"\"\n",
    "Neural Network Model for Airbnb Price Prediction (PyTorch)\n",
    "\"\"\"\n",
    "import pandas as pd\n",
    "import torch\n",
    "import torch.nn as nn\n",
    "from torch.utils.data import DataLoader, TensorDataset\n",
    "from sklearn.metrics import r2_score, mean_squared_error"
   ]
  },
  {
   "cell_type": "code",
   "execution_count": 279,
   "id": "831f7c52",
   "metadata": {},
   "outputs": [],
   "source": [
    "# Load processed data\n",
    "train = pd.read_csv('airbnb_train_processed.csv')\n",
    "test = pd.read_csv('airbnb_test_processed.csv')"
   ]
  },
  {
   "cell_type": "code",
   "execution_count": 280,
   "id": "b0594c77",
   "metadata": {},
   "outputs": [],
   "source": [
    "X_train = torch.tensor(train.drop('price', axis=1).values, dtype=torch.float32)\n",
    "y_train = torch.tensor(train['price'].values, dtype=torch.float32)\n",
    "X_test = torch.tensor(test.drop('price', axis=1).values, dtype=torch.float32)\n",
    "y_test = torch.tensor(test['price'].values, dtype=torch.float32)"
   ]
  },
  {
   "cell_type": "code",
   "execution_count": 281,
   "id": "456d9688",
   "metadata": {},
   "outputs": [],
   "source": [
    "class AirbnbNN(nn.Module):\n",
    "    def __init__(self, input_dim):\n",
    "        super().__init__()\n",
    "        self.net = nn.Sequential(\n",
    "            nn.Linear(input_dim, 64),\n",
    "            nn.ReLU(),\n",
    "            nn.Linear(64, 32),\n",
    "            nn.ReLU(),\n",
    "            nn.Linear(32, 1)\n",
    "        )\n",
    "    def forward(self, x):\n",
    "        return self.net(x).squeeze()\n",
    "\n",
    "model = AirbnbNN(X_train.shape[1])\n",
    "optimizer = torch.optim.Adam(model.parameters(), lr=0.001)\n",
    "loss_fn = nn.MSELoss()"
   ]
  },
  {
   "cell_type": "code",
   "execution_count": 282,
   "id": "8db2e2ce",
   "metadata": {},
   "outputs": [
    {
     "name": "stdout",
     "output_type": "stream",
     "text": [
      "Epoch 20, Loss: 189657.31\n",
      "Epoch 40, Loss: 187822.02\n",
      "Epoch 60, Loss: 182554.53\n",
      "Epoch 80, Loss: 171573.94\n",
      "Epoch 100, Loss: 154257.59\n"
     ]
    }
   ],
   "source": [
    "# Training\n",
    "for epoch in range(100):\n",
    "    model.train()\n",
    "    optimizer.zero_grad()\n",
    "    output = model(X_train)\n",
    "    loss = loss_fn(output, y_train)\n",
    "    loss.backward()\n",
    "    optimizer.step()\n",
    "    if (epoch+1) % 20 == 0:\n",
    "        print(f'Epoch {epoch+1}, Loss: {loss.item():.2f}')"
   ]
  },
  {
   "cell_type": "code",
   "execution_count": 283,
   "id": "0c2f9252",
   "metadata": {},
   "outputs": [
    {
     "name": "stdout",
     "output_type": "stream",
     "text": [
      "Neural Network R2: -0.1879, RMSE: $325.65\n"
     ]
    }
   ],
   "source": [
    "# Evaluation\n",
    "model.eval()\n",
    "with torch.no_grad():\n",
    "    pred = model(X_test)\n",
    "    r2 = r2_score(y_test.numpy(), pred.numpy())\n",
    "    rmse = mean_squared_error(y_test.numpy(), pred.numpy()) ** 0.5\n",
    "    print(f'Neural Network R2: {r2:.4f}, RMSE: ${rmse:.2f}')"
   ]
  }
 ],
 "metadata": {
  "kernelspec": {
   "display_name": ".venv",
   "language": "python",
   "name": "python3"
  },
  "language_info": {
   "codemirror_mode": {
    "name": "ipython",
    "version": 3
   },
   "file_extension": ".py",
   "mimetype": "text/x-python",
   "name": "python",
   "nbconvert_exporter": "python",
   "pygments_lexer": "ipython3",
   "version": "3.13.1"
  }
 },
 "nbformat": 4,
 "nbformat_minor": 5
}
